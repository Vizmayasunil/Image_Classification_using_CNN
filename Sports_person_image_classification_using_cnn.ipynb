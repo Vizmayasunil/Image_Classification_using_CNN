{
 "cells": [
  {
   "cell_type": "code",
   "execution_count": 20,
   "id": "caed0e22",
   "metadata": {},
   "outputs": [],
   "source": [
    "#Importing required libraries\n",
    "import numpy as np\n",
    "import matplotlib.pyplot as plt\n",
    "import cv2\n",
    "import os\n",
    "import tensorflow as tf\n",
    "from PIL import Image\n",
    "from sklearn.model_selection import train_test_split\n",
    "from sklearn.metrics import classification_report\n",
    "from tqdm import tqdm"
   ]
  },
  {
   "cell_type": "code",
   "execution_count": 21,
   "id": "bef321a9",
   "metadata": {},
   "outputs": [
    {
     "name": "stdout",
     "output_type": "stream",
     "text": [
      "The length of Virat Kohli images is 41\n",
      "The length of Serena Williams images is 29\n",
      "The length of Maria Sharapova images is 34\n",
      "The length of Rodger Federer images is 28\n",
      "The length of Lionel Messi images is 36\n"
     ]
    }
   ],
   "source": [
    "#Loading dataset\n",
    "image_dir=r\"C:\\Users\\Dell\\Documents\\Sem !!!\\Deep Learning\\assignment\\cropped\"\n",
    "kohli_images=os.listdir(image_dir+ '\\\\virat_kohli')\n",
    "serena_images=os.listdir(image_dir+ '\\\\serena_williams')\n",
    "maria_images=os.listdir(image_dir+ '\\\\maria_sharapova')\n",
    "roger_images=os.listdir(image_dir+ '\\\\roger_federer')\n",
    "messi_images=os.listdir(image_dir+ '\\\\lionel_messi')\n",
    "\n",
    "print('The length of Virat Kohli images is',len(kohli_images))\n",
    "print('The length of Serena Williams images is',len(serena_images))\n",
    "print('The length of Maria Sharapova images is',len(maria_images))\n",
    "print('The length of Rodger Federer images is',len(roger_images))\n",
    "print('The length of Lionel Messi images is',len(messi_images))"
   ]
  },
  {
   "cell_type": "code",
   "execution_count": 22,
   "id": "4e096273",
   "metadata": {},
   "outputs": [],
   "source": [
    "dataset=[]\n",
    "label=[]\n",
    "img_siz=(128,128)"
   ]
  },
  {
   "cell_type": "code",
   "execution_count": 23,
   "id": "591100fe",
   "metadata": {},
   "outputs": [
    {
     "name": "stderr",
     "output_type": "stream",
     "text": [
      "Virat Kohli: 41it [00:00, 520.94it/s]\n",
      "Serena Williams: 29it [00:00, 221.74it/s]\n",
      "Roger Federer: 28it [00:00, 250.66it/s]\n",
      "Maria Sharapova: 34it [00:00, 208.60it/s]\n",
      "Lionel Messi: 36it [00:00, 175.57it/s]\n"
     ]
    }
   ],
   "source": [
    "for i , image_name in tqdm(enumerate(kohli_images),desc=\"Virat Kohli\"):\n",
    "    if(image_name.split('.')[1]=='png'):\n",
    "        image=cv2.imread(image_dir+'/virat_kohli/'+image_name)\n",
    "        image=Image.fromarray(image,'RGB')\n",
    "        image=image.resize(img_siz)\n",
    "        dataset.append(np.array(image))\n",
    "        label.append(0)\n",
    "        \n",
    "        \n",
    "for i ,image_name in tqdm(enumerate(serena_images),desc=\"Serena Williams\"):\n",
    "    if(image_name.split('.')[1]=='png'):\n",
    "        image=cv2.imread(image_dir+'/serena_williams/'+image_name)\n",
    "        image=Image.fromarray(image,'RGB')\n",
    "        image=image.resize(img_siz)\n",
    "        dataset.append(np.array(image))\n",
    "        label.append(1)\n",
    "        \n",
    "for i , image_name in tqdm(enumerate(roger_images),desc=\"Roger Federer\"):\n",
    "    if(image_name.split('.')[1]=='png'):\n",
    "        image=cv2.imread(image_dir+'/roger_federer/'+image_name)\n",
    "        image=Image.fromarray(image,'RGB')\n",
    "        image=image.resize(img_siz)\n",
    "        dataset.append(np.array(image))\n",
    "        label.append(2)\n",
    "        \n",
    "        \n",
    "for i ,image_name in tqdm(enumerate(maria_images),desc=\"Maria Sharapova\"):\n",
    "    if(image_name.split('.')[1]=='png'):\n",
    "        image=cv2.imread(image_dir+'/maria_sharapova/'+image_name)\n",
    "        image=Image.fromarray(image,'RGB')\n",
    "        image=image.resize(img_siz)\n",
    "        dataset.append(np.array(image))\n",
    "        label.append(3)        \n",
    "        \n",
    "for i ,image_name in tqdm(enumerate(messi_images),desc=\"Lionel Messi\"):\n",
    "    if(image_name.split('.')[1]=='png'):\n",
    "        image=cv2.imread(image_dir+'/lionel_messi/'+image_name)\n",
    "        image=Image.fromarray(image,'RGB')\n",
    "        image=image.resize(img_siz)\n",
    "        dataset.append(np.array(image))\n",
    "        label.append(4) "
   ]
  },
  {
   "cell_type": "code",
   "execution_count": 24,
   "id": "ad6d65b8",
   "metadata": {},
   "outputs": [
    {
     "name": "stdout",
     "output_type": "stream",
     "text": [
      "Dataset Length:  168\n",
      "Label Length:  168\n"
     ]
    }
   ],
   "source": [
    "dataset=np.array(dataset)\n",
    "label = np.array(label)\n",
    "print('Dataset Length: ',len(dataset))\n",
    "print('Label Length: ',len(label))"
   ]
  },
  {
   "cell_type": "code",
   "execution_count": 25,
   "id": "4cb9ea57",
   "metadata": {},
   "outputs": [],
   "source": [
    "#Spliting dataset\n",
    "x_train,x_test,y_train,y_test=train_test_split(dataset,label,test_size=0.3,random_state=42)"
   ]
  },
  {
   "cell_type": "code",
   "execution_count": 26,
   "id": "d24d100e",
   "metadata": {},
   "outputs": [],
   "source": [
    "#Normalaising daraset\n",
    "x_train = x_train.astype('float32') / 255.0\n",
    "x_test = x_test.astype('float32') / 255.0"
   ]
  },
  {
   "cell_type": "code",
   "execution_count": 27,
   "id": "89903d68",
   "metadata": {},
   "outputs": [],
   "source": [
    "#Model Building\n",
    "model = tf.keras.models.Sequential([\n",
    "    tf.keras.layers.Conv2D(32, (3, 3), activation='relu', input_shape=(128, 128, 3)),\n",
    "    tf.keras.layers.MaxPooling2D((2, 2)),\n",
    "    tf.keras.layers.Flatten(),\n",
    "    tf.keras.layers.Dense(256, activation='relu'),\n",
    "    tf.keras.layers.Dropout(0.5),\n",
    "    tf.keras.layers.Dense(512, activation='relu'),\n",
    "    tf.keras.layers.Dense(5, activation='softmax')  # Change to 5 neurons for 5 classes\n",
    "])"
   ]
  },
  {
   "cell_type": "code",
   "execution_count": 28,
   "id": "9eee26df",
   "metadata": {},
   "outputs": [],
   "source": [
    "#Compiling model\n",
    "model.compile(optimizer='adam',\n",
    "              loss='sparse_categorical_crossentropy',  # Change loss function\n",
    "              metrics=['accuracy'])"
   ]
  },
  {
   "cell_type": "code",
   "execution_count": 29,
   "id": "db0d31fd",
   "metadata": {},
   "outputs": [
    {
     "name": "stdout",
     "output_type": "stream",
     "text": [
      "Epoch 1/50\n",
      "3/3 [==============================] - 2s 356ms/step - loss: 4.4644 - accuracy: 0.2222 - val_loss: 7.3804 - val_accuracy: 0.2500\n",
      "Epoch 2/50\n",
      "3/3 [==============================] - 1s 292ms/step - loss: 6.3743 - accuracy: 0.3333 - val_loss: 2.3222 - val_accuracy: 0.1667\n",
      "Epoch 3/50\n",
      "3/3 [==============================] - 1s 292ms/step - loss: 2.9191 - accuracy: 0.2469 - val_loss: 2.4798 - val_accuracy: 0.2500\n",
      "Epoch 4/50\n",
      "3/3 [==============================] - 1s 292ms/step - loss: 2.5016 - accuracy: 0.2222 - val_loss: 1.5181 - val_accuracy: 0.1944\n",
      "Epoch 5/50\n",
      "3/3 [==============================] - 1s 296ms/step - loss: 1.7075 - accuracy: 0.4198 - val_loss: 1.6051 - val_accuracy: 0.4167\n",
      "Epoch 6/50\n",
      "3/3 [==============================] - 1s 294ms/step - loss: 1.4121 - accuracy: 0.3457 - val_loss: 1.3493 - val_accuracy: 0.5556\n",
      "Epoch 7/50\n",
      "3/3 [==============================] - 1s 289ms/step - loss: 1.2650 - accuracy: 0.5062 - val_loss: 1.3093 - val_accuracy: 0.5278\n",
      "Epoch 8/50\n",
      "3/3 [==============================] - 1s 292ms/step - loss: 1.1336 - accuracy: 0.5309 - val_loss: 1.2302 - val_accuracy: 0.5833\n",
      "Epoch 9/50\n",
      "3/3 [==============================] - 1s 293ms/step - loss: 1.0069 - accuracy: 0.6543 - val_loss: 1.1779 - val_accuracy: 0.5833\n",
      "Epoch 10/50\n",
      "3/3 [==============================] - 1s 295ms/step - loss: 0.8062 - accuracy: 0.7531 - val_loss: 0.9912 - val_accuracy: 0.6667\n",
      "Epoch 11/50\n",
      "3/3 [==============================] - 1s 295ms/step - loss: 0.8137 - accuracy: 0.7037 - val_loss: 0.9171 - val_accuracy: 0.7222\n",
      "Epoch 12/50\n",
      "3/3 [==============================] - 1s 289ms/step - loss: 0.6280 - accuracy: 0.8148 - val_loss: 0.8410 - val_accuracy: 0.6667\n",
      "Epoch 13/50\n",
      "3/3 [==============================] - 1s 293ms/step - loss: 0.5009 - accuracy: 0.8519 - val_loss: 0.7387 - val_accuracy: 0.7778\n",
      "Epoch 14/50\n",
      "3/3 [==============================] - 1s 293ms/step - loss: 0.3283 - accuracy: 0.9383 - val_loss: 0.8565 - val_accuracy: 0.6944\n",
      "Epoch 15/50\n",
      "3/3 [==============================] - 1s 295ms/step - loss: 0.4123 - accuracy: 0.8765 - val_loss: 0.7176 - val_accuracy: 0.6944\n",
      "Epoch 16/50\n",
      "3/3 [==============================] - 1s 290ms/step - loss: 0.2183 - accuracy: 0.9753 - val_loss: 0.5885 - val_accuracy: 0.7500\n",
      "Epoch 17/50\n",
      "3/3 [==============================] - 1s 295ms/step - loss: 0.2176 - accuracy: 0.9630 - val_loss: 0.5910 - val_accuracy: 0.7778\n",
      "Epoch 18/50\n",
      "3/3 [==============================] - 1s 293ms/step - loss: 0.1294 - accuracy: 0.9877 - val_loss: 0.6133 - val_accuracy: 0.7778\n",
      "Epoch 19/50\n",
      "3/3 [==============================] - 1s 294ms/step - loss: 0.1051 - accuracy: 0.9877 - val_loss: 0.6546 - val_accuracy: 0.7778\n",
      "Epoch 20/50\n",
      "3/3 [==============================] - 1s 296ms/step - loss: 0.1095 - accuracy: 0.9753 - val_loss: 0.6138 - val_accuracy: 0.8611\n",
      "Epoch 21/50\n",
      "3/3 [==============================] - 1s 295ms/step - loss: 0.1071 - accuracy: 0.9877 - val_loss: 0.5384 - val_accuracy: 0.8611\n",
      "Epoch 22/50\n",
      "3/3 [==============================] - 1s 299ms/step - loss: 0.0526 - accuracy: 1.0000 - val_loss: 0.6000 - val_accuracy: 0.7778\n",
      "Epoch 23/50\n",
      "3/3 [==============================] - 1s 295ms/step - loss: 0.0510 - accuracy: 0.9877 - val_loss: 0.7339 - val_accuracy: 0.7222\n",
      "Epoch 24/50\n",
      "3/3 [==============================] - 1s 294ms/step - loss: 0.0149 - accuracy: 1.0000 - val_loss: 0.8877 - val_accuracy: 0.7222\n",
      "Epoch 25/50\n",
      "3/3 [==============================] - 1s 295ms/step - loss: 0.0659 - accuracy: 0.9877 - val_loss: 0.7653 - val_accuracy: 0.7222\n",
      "Epoch 26/50\n",
      "3/3 [==============================] - 1s 303ms/step - loss: 0.0519 - accuracy: 0.9877 - val_loss: 0.6498 - val_accuracy: 0.7222\n",
      "Epoch 27/50\n",
      "3/3 [==============================] - 1s 295ms/step - loss: 0.0279 - accuracy: 0.9877 - val_loss: 0.7137 - val_accuracy: 0.7222\n",
      "Epoch 28/50\n",
      "3/3 [==============================] - 1s 296ms/step - loss: 0.0286 - accuracy: 1.0000 - val_loss: 0.7688 - val_accuracy: 0.6944\n",
      "Epoch 29/50\n",
      "3/3 [==============================] - 1s 294ms/step - loss: 0.0613 - accuracy: 0.9753 - val_loss: 0.8164 - val_accuracy: 0.7500\n",
      "Epoch 30/50\n",
      "3/3 [==============================] - 1s 295ms/step - loss: 0.0403 - accuracy: 0.9877 - val_loss: 0.8915 - val_accuracy: 0.7222\n",
      "Epoch 31/50\n",
      "3/3 [==============================] - 1s 293ms/step - loss: 0.0380 - accuracy: 0.9877 - val_loss: 0.7673 - val_accuracy: 0.7500\n",
      "Epoch 32/50\n",
      "3/3 [==============================] - 1s 292ms/step - loss: 0.0232 - accuracy: 1.0000 - val_loss: 0.6530 - val_accuracy: 0.7500\n",
      "Epoch 33/50\n",
      "3/3 [==============================] - 1s 295ms/step - loss: 0.0219 - accuracy: 1.0000 - val_loss: 0.6677 - val_accuracy: 0.8056\n",
      "Epoch 34/50\n",
      "3/3 [==============================] - 1s 294ms/step - loss: 0.0462 - accuracy: 0.9877 - val_loss: 0.6515 - val_accuracy: 0.8333\n",
      "Epoch 35/50\n",
      "3/3 [==============================] - 1s 296ms/step - loss: 0.0107 - accuracy: 1.0000 - val_loss: 0.6373 - val_accuracy: 0.7778\n",
      "Epoch 36/50\n",
      "3/3 [==============================] - 1s 302ms/step - loss: 0.0285 - accuracy: 0.9877 - val_loss: 0.6765 - val_accuracy: 0.7778\n",
      "Epoch 37/50\n",
      "3/3 [==============================] - 1s 295ms/step - loss: 0.0138 - accuracy: 1.0000 - val_loss: 0.7139 - val_accuracy: 0.7778\n",
      "Epoch 38/50\n",
      "3/3 [==============================] - 1s 295ms/step - loss: 0.0102 - accuracy: 1.0000 - val_loss: 0.7189 - val_accuracy: 0.7778\n",
      "Epoch 39/50\n",
      "3/3 [==============================] - 1s 293ms/step - loss: 0.0291 - accuracy: 1.0000 - val_loss: 0.7262 - val_accuracy: 0.7778\n",
      "Epoch 40/50\n",
      "3/3 [==============================] - 1s 295ms/step - loss: 0.0391 - accuracy: 0.9877 - val_loss: 0.6630 - val_accuracy: 0.7778\n",
      "Epoch 41/50\n",
      "3/3 [==============================] - 1s 291ms/step - loss: 0.0103 - accuracy: 1.0000 - val_loss: 0.6424 - val_accuracy: 0.8056\n",
      "Epoch 42/50\n",
      "3/3 [==============================] - 1s 292ms/step - loss: 0.0092 - accuracy: 1.0000 - val_loss: 0.6656 - val_accuracy: 0.8333\n",
      "Epoch 43/50\n",
      "3/3 [==============================] - 1s 294ms/step - loss: 0.0139 - accuracy: 1.0000 - val_loss: 0.7266 - val_accuracy: 0.7778\n",
      "Epoch 44/50\n",
      "3/3 [==============================] - 1s 296ms/step - loss: 0.0461 - accuracy: 0.9877 - val_loss: 0.6670 - val_accuracy: 0.8611\n",
      "Epoch 45/50\n",
      "3/3 [==============================] - 1s 291ms/step - loss: 0.0198 - accuracy: 1.0000 - val_loss: 0.7327 - val_accuracy: 0.8056\n",
      "Epoch 46/50\n",
      "3/3 [==============================] - 1s 297ms/step - loss: 0.0317 - accuracy: 0.9753 - val_loss: 0.6805 - val_accuracy: 0.8056\n",
      "Epoch 47/50\n",
      "3/3 [==============================] - 1s 291ms/step - loss: 0.0458 - accuracy: 0.9753 - val_loss: 0.5533 - val_accuracy: 0.8056\n",
      "Epoch 48/50\n",
      "3/3 [==============================] - 1s 294ms/step - loss: 0.0147 - accuracy: 1.0000 - val_loss: 0.5405 - val_accuracy: 0.8056\n",
      "Epoch 49/50\n",
      "3/3 [==============================] - 1s 293ms/step - loss: 0.0136 - accuracy: 1.0000 - val_loss: 0.5174 - val_accuracy: 0.7778\n",
      "Epoch 50/50\n",
      "3/3 [==============================] - 1s 298ms/step - loss: 0.0222 - accuracy: 1.0000 - val_loss: 0.5667 - val_accuracy: 0.8056\n"
     ]
    }
   ],
   "source": [
    "#Training dataset\n",
    "history = model.fit(x_train, y_train, epochs=50, batch_size=32, validation_split=0.3)\n"
   ]
  },
  {
   "cell_type": "code",
   "execution_count": 30,
   "id": "998a1beb",
   "metadata": {},
   "outputs": [
    {
     "name": "stdout",
     "output_type": "stream",
     "text": [
      "2/2 [==============================] - 0s 25ms/step - loss: 0.5313 - accuracy: 0.8824\n",
      "Accuracy: 88.24\n"
     ]
    }
   ],
   "source": [
    "#Evaluating model\n",
    "loss, accuracy = model.evaluate(x_test, y_test)\n",
    "print(f'Accuracy: {round(accuracy * 100, 2)}')"
   ]
  },
  {
   "cell_type": "code",
   "execution_count": 31,
   "id": "4932b85f",
   "metadata": {},
   "outputs": [
    {
     "name": "stdout",
     "output_type": "stream",
     "text": [
      "2/2 [==============================] - 0s 24ms/step\n",
      "Classification Report:\n",
      "               precision    recall  f1-score   support\n",
      "\n",
      "           0       0.82      1.00      0.90        14\n",
      "           1       0.75      0.67      0.71         9\n",
      "           2       1.00      0.71      0.83         7\n",
      "           3       1.00      0.89      0.94         9\n",
      "           4       0.92      1.00      0.96        12\n",
      "\n",
      "    accuracy                           0.88        51\n",
      "   macro avg       0.90      0.85      0.87        51\n",
      "weighted avg       0.89      0.88      0.88        51\n",
      "\n"
     ]
    }
   ],
   "source": [
    "#Evaluation Metrics\n",
    "y_pred = model.predict(x_test)\n",
    "y_pred = np.argmax(y_pred, axis=1)\n",
    "print('Classification Report:\\n', classification_report(y_test, y_pred))"
   ]
  },
  {
   "cell_type": "code",
   "execution_count": 32,
   "id": "5dcd0e9e",
   "metadata": {},
   "outputs": [],
   "source": [
    "#Loading and processing of a single image\n",
    "def preprocess_single_image(image_path):\n",
    "    img_size = (128, 128)\n",
    "    image = cv2.imread(image_path)\n",
    "    image = Image.fromarray(image, 'RGB')\n",
    "    image = image.resize(img_size)\n",
    "    image = np.array(image)\n",
    "    image = image.astype('float32') / 255.0\n",
    "    return image\n"
   ]
  },
  {
   "cell_type": "code",
   "execution_count": 33,
   "id": "954863b4",
   "metadata": {},
   "outputs": [
    {
     "name": "stdout",
     "output_type": "stream",
     "text": [
      "1/1 [==============================] - 0s 41ms/step\n",
      "The predicted label for the image is: Roger Federer\n",
      "1/1 [==============================] - 0s 27ms/step\n",
      "The predicted label for the image is: Maria Sharapova\n",
      "1/1 [==============================] - 0s 27ms/step\n",
      "The predicted label for the image is: Lionel Messi\n",
      "1/1 [==============================] - 0s 29ms/step\n",
      "The predicted label for the image is: Serena Williams\n",
      "1/1 [==============================] - 0s 28ms/step\n",
      "The predicted label for the image is: Roger Federer\n"
     ]
    }
   ],
   "source": [
    "image_path_to_predict = [r\"C:\\Users\\Dell\\Documents\\Sem !!!\\Deep Learning\\assignment\\cropped\\roger_federer\\roger_federer15.png\",r\"C:\\Users\\Dell\\Documents\\Sem !!!\\Deep Learning\\assignment\\cropped\\maria_sharapova\\maria_sharapova16.png\",r\"C:\\Users\\Dell\\Documents\\Sem !!!\\Deep Learning\\assignment\\cropped\\lionel_messi\\lionel_messi14.png\",r\"C:\\Users\\Dell\\Documents\\Sem !!!\\Deep Learning\\assignment\\cropped\\serena_williams\\serena_williams14.png\",r\"C:\\Users\\Dell\\Documents\\Sem !!!\\Deep Learning\\assignment\\cropped\\roger_federer\\roger_federer18.png\"]\n",
    "for i in image_path_to_predict:\n",
    "    single_image = preprocess_single_image(i)\n",
    "    single_image = np.expand_dims(single_image, axis=0)\n",
    "\n",
    "    predictions = model.predict(single_image)\n",
    "    predicted_class = np.argmax(predictions)\n",
    "\n",
    "    class_names = ['Virat Kohli', 'Serena Williams', 'Roger Federer', 'Maria Sharapova', 'Lionel Messi']\n",
    "    predicted_label = class_names[predicted_class]\n",
    "\n",
    "    print(f\"The predicted label for the image is: {predicted_label}\")"
   ]
  },
  {
   "cell_type": "code",
   "execution_count": null,
   "id": "1dc07423",
   "metadata": {},
   "outputs": [],
   "source": []
  }
 ],
 "metadata": {
  "kernelspec": {
   "display_name": "Python 3 (ipykernel)",
   "language": "python",
   "name": "python3"
  },
  "language_info": {
   "codemirror_mode": {
    "name": "ipython",
    "version": 3
   },
   "file_extension": ".py",
   "mimetype": "text/x-python",
   "name": "python",
   "nbconvert_exporter": "python",
   "pygments_lexer": "ipython3",
   "version": "3.9.12"
  }
 },
 "nbformat": 4,
 "nbformat_minor": 5
}

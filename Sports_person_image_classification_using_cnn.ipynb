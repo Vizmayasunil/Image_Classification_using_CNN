{
 "cells": [
  {
   "cell_type": "code",
   "execution_count": 16,
   "id": "caed0e22",
   "metadata": {},
   "outputs": [],
   "source": [
    "#Importing required libraries\n",
    "import numpy as np\n",
    "import matplotlib.pyplot as plt\n",
    "import cv2\n",
    "import os\n",
    "import tensorflow as tf\n",
    "from PIL import Image\n",
    "from sklearn.model_selection import train_test_split\n",
    "from sklearn.metrics import classification_report\n",
    "from tqdm import tqdm"
   ]
  },
  {
   "cell_type": "code",
   "execution_count": 17,
   "id": "bef321a9",
   "metadata": {},
   "outputs": [
    {
     "name": "stdout",
     "output_type": "stream",
     "text": [
      "The length of Virat Kohli images is 41\n",
      "The length of Serena Williams images is 29\n",
      "The length of Maria Sharapova images is 34\n",
      "The length of Rodger Federer images is 28\n",
      "The length of Lionel Messi images is 36\n"
     ]
    }
   ],
   "source": [
    "#Loading dataset\n",
    "image_dir=r\"C:\\Users\\Dell\\Documents\\Sem !!!\\Deep Learning\\assignment\\cropped\"\n",
    "kohli_images=os.listdir(image_dir+ '\\\\virat_kohli')\n",
    "serena_images=os.listdir(image_dir+ '\\\\serena_williams')\n",
    "maria_images=os.listdir(image_dir+ '\\\\maria_sharapova')\n",
    "roger_images=os.listdir(image_dir+ '\\\\roger_federer')\n",
    "messi_images=os.listdir(image_dir+ '\\\\lionel_messi')\n",
    "\n",
    "print('The length of Virat Kohli images is',len(kohli_images))\n",
    "print('The length of Serena Williams images is',len(serena_images))\n",
    "print('The length of Maria Sharapova images is',len(maria_images))\n",
    "print('The length of Rodger Federer images is',len(roger_images))\n",
    "print('The length of Lionel Messi images is',len(messi_images))"
   ]
  },
  {
   "cell_type": "code",
   "execution_count": 18,
   "id": "4e096273",
   "metadata": {},
   "outputs": [],
   "source": [
    "dataset=[]\n",
    "label=[]\n",
    "img_siz=(128,128)"
   ]
  },
  {
   "cell_type": "code",
   "execution_count": 19,
   "id": "591100fe",
   "metadata": {},
   "outputs": [
    {
     "name": "stderr",
     "output_type": "stream",
     "text": [
      "Virat Kohli: 41it [00:00, 555.88it/s]\n",
      "Serena Williams: 29it [00:00, 326.60it/s]\n",
      "Roger Federer: 28it [00:00, 280.05it/s]\n",
      "Maria Sharapova: 34it [00:00, 204.28it/s]\n",
      "Lionel Messi: 36it [00:00, 184.21it/s]\n"
     ]
    }
   ],
   "source": [
    "for i , image_name in tqdm(enumerate(kohli_images),desc=\"Virat Kohli\"):\n",
    "    if(image_name.split('.')[1]=='png'):\n",
    "        image=cv2.imread(image_dir+'/virat_kohli/'+image_name)\n",
    "        image=Image.fromarray(image,'RGB')\n",
    "        image=image.resize(img_siz)\n",
    "        dataset.append(np.array(image))\n",
    "        label.append(0)\n",
    "        \n",
    "        \n",
    "for i ,image_name in tqdm(enumerate(serena_images),desc=\"Serena Williams\"):\n",
    "    if(image_name.split('.')[1]=='png'):\n",
    "        image=cv2.imread(image_dir+'/serena_williams/'+image_name)\n",
    "        image=Image.fromarray(image,'RGB')\n",
    "        image=image.resize(img_siz)\n",
    "        dataset.append(np.array(image))\n",
    "        label.append(1)\n",
    "        \n",
    "for i , image_name in tqdm(enumerate(roger_images),desc=\"Roger Federer\"):\n",
    "    if(image_name.split('.')[1]=='png'):\n",
    "        image=cv2.imread(image_dir+'/roger_federer/'+image_name)\n",
    "        image=Image.fromarray(image,'RGB')\n",
    "        image=image.resize(img_siz)\n",
    "        dataset.append(np.array(image))\n",
    "        label.append(2)\n",
    "        \n",
    "        \n",
    "for i ,image_name in tqdm(enumerate(maria_images),desc=\"Maria Sharapova\"):\n",
    "    if(image_name.split('.')[1]=='png'):\n",
    "        image=cv2.imread(image_dir+'/maria_sharapova/'+image_name)\n",
    "        image=Image.fromarray(image,'RGB')\n",
    "        image=image.resize(img_siz)\n",
    "        dataset.append(np.array(image))\n",
    "        label.append(3)        \n",
    "        \n",
    "for i ,image_name in tqdm(enumerate(messi_images),desc=\"Lionel Messi\"):\n",
    "    if(image_name.split('.')[1]=='png'):\n",
    "        image=cv2.imread(image_dir+'/lionel_messi/'+image_name)\n",
    "        image=Image.fromarray(image,'RGB')\n",
    "        image=image.resize(img_siz)\n",
    "        dataset.append(np.array(image))\n",
    "        label.append(4) "
   ]
  },
  {
   "cell_type": "code",
   "execution_count": 20,
   "id": "ad6d65b8",
   "metadata": {},
   "outputs": [
    {
     "name": "stdout",
     "output_type": "stream",
     "text": [
      "Dataset Length:  168\n",
      "Label Length:  168\n"
     ]
    }
   ],
   "source": [
    "dataset=np.array(dataset)\n",
    "label = np.array(label)\n",
    "print('Dataset Length: ',len(dataset))\n",
    "print('Label Length: ',len(label))"
   ]
  },
  {
   "cell_type": "code",
   "execution_count": 21,
   "id": "4cb9ea57",
   "metadata": {},
   "outputs": [],
   "source": [
    "#Spliting dataset\n",
    "x_train,x_test,y_train,y_test=train_test_split(dataset,label,test_size=0.3,random_state=42)"
   ]
  },
  {
   "cell_type": "code",
   "execution_count": 22,
   "id": "d24d100e",
   "metadata": {},
   "outputs": [],
   "source": [
    "#Normalaising daraset\n",
    "x_train = x_train.astype('float32') / 255.0\n",
    "x_test = x_test.astype('float32') / 255.0"
   ]
  },
  {
   "cell_type": "code",
   "execution_count": 23,
   "id": "89903d68",
   "metadata": {},
   "outputs": [],
   "source": [
    "#Model Building\n",
    "model = tf.keras.models.Sequential([\n",
    "    tf.keras.layers.Conv2D(32, (3, 3), activation='relu', input_shape=(128, 128, 3)),\n",
    "    tf.keras.layers.MaxPooling2D((2, 2)),\n",
    "    tf.keras.layers.Flatten(),\n",
    "    tf.keras.layers.Dense(256, activation='relu'),\n",
    "    tf.keras.layers.Dropout(0.5),\n",
    "    tf.keras.layers.Dense(512, activation='relu'),\n",
    "    tf.keras.layers.Dense(5, activation='softmax')  # Change to 5 neurons for 5 classes\n",
    "])"
   ]
  },
  {
   "cell_type": "code",
   "execution_count": 24,
   "id": "9eee26df",
   "metadata": {},
   "outputs": [],
   "source": [
    "#Compiling model\n",
    "model.compile(optimizer='adam',\n",
    "              loss='sparse_categorical_crossentropy',  # Change loss function\n",
    "              metrics=['accuracy'])"
   ]
  },
  {
   "cell_type": "code",
   "execution_count": 25,
   "id": "db0d31fd",
   "metadata": {},
   "outputs": [
    {
     "name": "stdout",
     "output_type": "stream",
     "text": [
      "Epoch 1/50\n",
      "3/3 [==============================] - 2s 383ms/step - loss: 7.7360 - accuracy: 0.2099 - val_loss: 7.4541 - val_accuracy: 0.2500\n",
      "Epoch 2/50\n",
      "3/3 [==============================] - 1s 277ms/step - loss: 9.0503 - accuracy: 0.1728 - val_loss: 5.1969 - val_accuracy: 0.1944\n",
      "Epoch 3/50\n",
      "3/3 [==============================] - 1s 279ms/step - loss: 4.2356 - accuracy: 0.2593 - val_loss: 3.9453 - val_accuracy: 0.1389\n",
      "Epoch 4/50\n",
      "3/3 [==============================] - 1s 273ms/step - loss: 2.8306 - accuracy: 0.2099 - val_loss: 1.8077 - val_accuracy: 0.2778\n",
      "Epoch 5/50\n",
      "3/3 [==============================] - 1s 272ms/step - loss: 2.0494 - accuracy: 0.2963 - val_loss: 1.4675 - val_accuracy: 0.3056\n",
      "Epoch 6/50\n",
      "3/3 [==============================] - 1s 273ms/step - loss: 1.5317 - accuracy: 0.3333 - val_loss: 1.5652 - val_accuracy: 0.2778\n",
      "Epoch 7/50\n",
      "3/3 [==============================] - 1s 273ms/step - loss: 1.4234 - accuracy: 0.3333 - val_loss: 1.5630 - val_accuracy: 0.1944\n",
      "Epoch 8/50\n",
      "3/3 [==============================] - 1s 310ms/step - loss: 1.1819 - accuracy: 0.5679 - val_loss: 1.3809 - val_accuracy: 0.3889\n",
      "Epoch 9/50\n",
      "3/3 [==============================] - 1s 279ms/step - loss: 1.2299 - accuracy: 0.5185 - val_loss: 1.2504 - val_accuracy: 0.4722\n",
      "Epoch 10/50\n",
      "3/3 [==============================] - 1s 274ms/step - loss: 1.1041 - accuracy: 0.5802 - val_loss: 1.1741 - val_accuracy: 0.5556\n",
      "Epoch 11/50\n",
      "3/3 [==============================] - 1s 280ms/step - loss: 0.9610 - accuracy: 0.7654 - val_loss: 1.1447 - val_accuracy: 0.6389\n",
      "Epoch 12/50\n",
      "3/3 [==============================] - 1s 279ms/step - loss: 0.8551 - accuracy: 0.7778 - val_loss: 1.0556 - val_accuracy: 0.6667\n",
      "Epoch 13/50\n",
      "3/3 [==============================] - 1s 274ms/step - loss: 0.8015 - accuracy: 0.7037 - val_loss: 0.9229 - val_accuracy: 0.7500\n",
      "Epoch 14/50\n",
      "3/3 [==============================] - 1s 275ms/step - loss: 0.6751 - accuracy: 0.7654 - val_loss: 0.9182 - val_accuracy: 0.6389\n",
      "Epoch 15/50\n",
      "3/3 [==============================] - 1s 274ms/step - loss: 0.5952 - accuracy: 0.8272 - val_loss: 0.8124 - val_accuracy: 0.6667\n",
      "Epoch 16/50\n",
      "3/3 [==============================] - 1s 277ms/step - loss: 0.5036 - accuracy: 0.8519 - val_loss: 0.7355 - val_accuracy: 0.6944\n",
      "Epoch 17/50\n",
      "3/3 [==============================] - 1s 278ms/step - loss: 0.3717 - accuracy: 0.9012 - val_loss: 0.7074 - val_accuracy: 0.6944\n",
      "Epoch 18/50\n",
      "3/3 [==============================] - 1s 274ms/step - loss: 0.3544 - accuracy: 0.9012 - val_loss: 0.7494 - val_accuracy: 0.7222\n",
      "Epoch 19/50\n",
      "3/3 [==============================] - 1s 327ms/step - loss: 0.1939 - accuracy: 0.9877 - val_loss: 0.8267 - val_accuracy: 0.6667\n",
      "Epoch 20/50\n",
      "3/3 [==============================] - 1s 284ms/step - loss: 0.3463 - accuracy: 0.8395 - val_loss: 0.6892 - val_accuracy: 0.7222\n",
      "Epoch 21/50\n",
      "3/3 [==============================] - 1s 275ms/step - loss: 0.1869 - accuracy: 0.9259 - val_loss: 0.6130 - val_accuracy: 0.7778\n",
      "Epoch 22/50\n",
      "3/3 [==============================] - 1s 278ms/step - loss: 0.2534 - accuracy: 0.9383 - val_loss: 0.5526 - val_accuracy: 0.8056\n",
      "Epoch 23/50\n",
      "3/3 [==============================] - 1s 289ms/step - loss: 0.1159 - accuracy: 0.9753 - val_loss: 0.7293 - val_accuracy: 0.7778\n",
      "Epoch 24/50\n",
      "3/3 [==============================] - 1s 275ms/step - loss: 0.2138 - accuracy: 0.9259 - val_loss: 0.7647 - val_accuracy: 0.7222\n",
      "Epoch 25/50\n",
      "3/3 [==============================] - 1s 319ms/step - loss: 0.1513 - accuracy: 0.9877 - val_loss: 0.6076 - val_accuracy: 0.8333\n",
      "Epoch 26/50\n",
      "3/3 [==============================] - 1s 303ms/step - loss: 0.1784 - accuracy: 0.9506 - val_loss: 0.5424 - val_accuracy: 0.8333\n",
      "Epoch 27/50\n",
      "3/3 [==============================] - 1s 320ms/step - loss: 0.1125 - accuracy: 0.9753 - val_loss: 0.5792 - val_accuracy: 0.8056\n",
      "Epoch 28/50\n",
      "3/3 [==============================] - 1s 279ms/step - loss: 0.1136 - accuracy: 0.9753 - val_loss: 0.5605 - val_accuracy: 0.8611\n",
      "Epoch 29/50\n",
      "3/3 [==============================] - 1s 271ms/step - loss: 0.0800 - accuracy: 0.9877 - val_loss: 0.5352 - val_accuracy: 0.8611\n",
      "Epoch 30/50\n",
      "3/3 [==============================] - 1s 279ms/step - loss: 0.1467 - accuracy: 0.9753 - val_loss: 0.5476 - val_accuracy: 0.8333\n",
      "Epoch 31/50\n",
      "3/3 [==============================] - 1s 274ms/step - loss: 0.1000 - accuracy: 0.9630 - val_loss: 0.6103 - val_accuracy: 0.7500\n",
      "Epoch 32/50\n",
      "3/3 [==============================] - 1s 275ms/step - loss: 0.0648 - accuracy: 0.9877 - val_loss: 0.6792 - val_accuracy: 0.7222\n",
      "Epoch 33/50\n",
      "3/3 [==============================] - 1s 275ms/step - loss: 0.0720 - accuracy: 0.9877 - val_loss: 0.6700 - val_accuracy: 0.7500\n",
      "Epoch 34/50\n",
      "3/3 [==============================] - 1s 277ms/step - loss: 0.0813 - accuracy: 0.9877 - val_loss: 0.6275 - val_accuracy: 0.7500\n",
      "Epoch 35/50\n",
      "3/3 [==============================] - 1s 273ms/step - loss: 0.1006 - accuracy: 0.9753 - val_loss: 0.6912 - val_accuracy: 0.7778\n",
      "Epoch 36/50\n",
      "3/3 [==============================] - 1s 275ms/step - loss: 0.0925 - accuracy: 0.9753 - val_loss: 0.8528 - val_accuracy: 0.7778\n",
      "Epoch 37/50\n",
      "3/3 [==============================] - 1s 275ms/step - loss: 0.0567 - accuracy: 0.9877 - val_loss: 0.8586 - val_accuracy: 0.7778\n",
      "Epoch 38/50\n",
      "3/3 [==============================] - 1s 282ms/step - loss: 0.0911 - accuracy: 0.9753 - val_loss: 0.6183 - val_accuracy: 0.7778\n",
      "Epoch 39/50\n",
      "3/3 [==============================] - 1s 270ms/step - loss: 0.0407 - accuracy: 0.9877 - val_loss: 0.5127 - val_accuracy: 0.8333\n",
      "Epoch 40/50\n",
      "3/3 [==============================] - 1s 298ms/step - loss: 0.0636 - accuracy: 0.9877 - val_loss: 0.4899 - val_accuracy: 0.8611\n",
      "Epoch 41/50\n",
      "3/3 [==============================] - 1s 282ms/step - loss: 0.0396 - accuracy: 1.0000 - val_loss: 0.5090 - val_accuracy: 0.8056\n",
      "Epoch 42/50\n",
      "3/3 [==============================] - 1s 267ms/step - loss: 0.0649 - accuracy: 0.9877 - val_loss: 0.5754 - val_accuracy: 0.7778\n",
      "Epoch 43/50\n",
      "3/3 [==============================] - 1s 273ms/step - loss: 0.0342 - accuracy: 1.0000 - val_loss: 0.6903 - val_accuracy: 0.7778\n",
      "Epoch 44/50\n",
      "3/3 [==============================] - 1s 267ms/step - loss: 0.0768 - accuracy: 0.9630 - val_loss: 0.7342 - val_accuracy: 0.7778\n",
      "Epoch 45/50\n",
      "3/3 [==============================] - 1s 267ms/step - loss: 0.0337 - accuracy: 1.0000 - val_loss: 0.8184 - val_accuracy: 0.7222\n",
      "Epoch 46/50\n",
      "3/3 [==============================] - 1s 266ms/step - loss: 0.0389 - accuracy: 0.9877 - val_loss: 0.9681 - val_accuracy: 0.7222\n",
      "Epoch 47/50\n",
      "3/3 [==============================] - 1s 270ms/step - loss: 0.0675 - accuracy: 0.9630 - val_loss: 0.6180 - val_accuracy: 0.8056\n",
      "Epoch 48/50\n",
      "3/3 [==============================] - 1s 269ms/step - loss: 0.0744 - accuracy: 0.9630 - val_loss: 0.5475 - val_accuracy: 0.8333\n",
      "Epoch 49/50\n",
      "3/3 [==============================] - 1s 267ms/step - loss: 0.0408 - accuracy: 0.9877 - val_loss: 0.5343 - val_accuracy: 0.8611\n",
      "Epoch 50/50\n",
      "3/3 [==============================] - 1s 263ms/step - loss: 0.0770 - accuracy: 0.9753 - val_loss: 0.4841 - val_accuracy: 0.8611\n"
     ]
    }
   ],
   "source": [
    "#Training dataset\n",
    "history = model.fit(x_train, y_train, epochs=50, batch_size=32, validation_split=0.3)\n"
   ]
  },
  {
   "cell_type": "code",
   "execution_count": 26,
   "id": "998a1beb",
   "metadata": {},
   "outputs": [
    {
     "name": "stdout",
     "output_type": "stream",
     "text": [
      "2/2 [==============================] - 0s 27ms/step - loss: 0.5303 - accuracy: 0.8039\n",
      "Accuracy: 80.39\n"
     ]
    }
   ],
   "source": [
    "#Evaluating model\n",
    "loss, accuracy = model.evaluate(x_test, y_test)\n",
    "print(f'Accuracy: {round(accuracy * 100, 2)}')"
   ]
  },
  {
   "cell_type": "code",
   "execution_count": 27,
   "id": "4932b85f",
   "metadata": {},
   "outputs": [
    {
     "name": "stdout",
     "output_type": "stream",
     "text": [
      "2/2 [==============================] - 0s 20ms/step\n",
      "Classification Report:\n",
      "               precision    recall  f1-score   support\n",
      "\n",
      "           0       0.80      0.86      0.83        14\n",
      "           1       0.60      0.67      0.63         9\n",
      "           2       1.00      0.71      0.83         7\n",
      "           3       1.00      0.67      0.80         9\n",
      "           4       0.80      1.00      0.89        12\n",
      "\n",
      "    accuracy                           0.80        51\n",
      "   macro avg       0.84      0.78      0.80        51\n",
      "weighted avg       0.83      0.80      0.80        51\n",
      "\n"
     ]
    }
   ],
   "source": [
    "#Evaluation Metrics\n",
    "y_pred = model.predict(x_test)\n",
    "y_pred = np.argmax(y_pred, axis=1)\n",
    "print('Classification Report:\\n', classification_report(y_test, y_pred))"
   ]
  },
  {
   "cell_type": "code",
   "execution_count": 28,
   "id": "5dcd0e9e",
   "metadata": {},
   "outputs": [],
   "source": [
    "#Loading and processing of a single image\n",
    "def preprocess_single_image(image_path):\n",
    "    img_size = (128, 128)\n",
    "    image = cv2.imread(image_path)\n",
    "    image = Image.fromarray(image, 'RGB')\n",
    "    image = image.resize(img_size)\n",
    "    image = np.array(image)\n",
    "    image = image.astype('float32') / 255.0\n",
    "    return image\n"
   ]
  },
  {
   "cell_type": "code",
   "execution_count": 29,
   "id": "954863b4",
   "metadata": {},
   "outputs": [],
   "source": [
    "image_path_to_predict = r\"C:\\Users\\Dell\\Documents\\Sem !!!\\Deep Learning\\assignment\\cropped\\roger_federer\\roger_federer15.png\"\n",
    "single_image = preprocess_single_image(image_path_to_predict)\n",
    "single_image = np.expand_dims(single_image, axis=0)\n"
   ]
  },
  {
   "cell_type": "code",
   "execution_count": 30,
   "id": "078393be",
   "metadata": {},
   "outputs": [
    {
     "name": "stdout",
     "output_type": "stream",
     "text": [
      "1/1 [==============================] - 0s 42ms/step\n",
      "The predicted label for the image is: Roger Federer\n"
     ]
    }
   ],
   "source": [
    "#Pediction\n",
    "predictions = model.predict(single_image)\n",
    "predicted_class = np.argmax(predictions)\n",
    "class_names = ['Virat Kohli', 'Serena Williams', 'Roger Federer', 'Maria Sharapova', 'Lionel Messi']\n",
    "predicted_label = class_names[predicted_class]\n",
    "print(f\"The predicted label for the image is: {predicted_label}\")"
   ]
  },
  {
   "cell_type": "code",
   "execution_count": null,
   "id": "1dc07423",
   "metadata": {},
   "outputs": [],
   "source": []
  }
 ],
 "metadata": {
  "kernelspec": {
   "display_name": "Python 3 (ipykernel)",
   "language": "python",
   "name": "python3"
  },
  "language_info": {
   "codemirror_mode": {
    "name": "ipython",
    "version": 3
   },
   "file_extension": ".py",
   "mimetype": "text/x-python",
   "name": "python",
   "nbconvert_exporter": "python",
   "pygments_lexer": "ipython3",
   "version": "3.9.12"
  }
 },
 "nbformat": 4,
 "nbformat_minor": 5
}
